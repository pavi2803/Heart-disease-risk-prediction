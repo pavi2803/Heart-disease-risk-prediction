{
 "cells": [
  {
   "cell_type": "code",
   "execution_count": 100,
   "metadata": {},
   "outputs": [
    {
     "name": "stdout",
     "output_type": "stream",
     "text": [
      "Python: 3.8.5 (default, Sep  3 2020, 21:29:08) [MSC v.1916 64 bit (AMD64)]\n",
      "Pandas: 1.2.0\n",
      "Numpy: 1.19.2\n",
      "Sklearn: 0.24.0\n",
      "Matplotlib: 3.3.3\n",
      "Keras: 2.4.3\n"
     ]
    }
   ],
   "source": [
    "import sys\n",
    "import pandas as pd\n",
    "import numpy as np\n",
    "import sklearn\n",
    "import matplotlib\n",
    "import keras\n",
    "\n",
    "print('Python: {}'.format(sys.version))\n",
    "print('Pandas: {}'.format(pd.__version__))\n",
    "print('Numpy: {}'.format(np.__version__))\n",
    "print('Sklearn: {}'.format(sklearn.__version__))\n",
    "print('Matplotlib: {}'.format(matplotlib.__version__))\n",
    "print('Keras: {}'.format(keras.__version__))"
   ]
  },
  {
   "cell_type": "code",
   "execution_count": 101,
   "metadata": {},
   "outputs": [],
   "source": [
    "import matplotlib.pyplot as plt\n",
    "from pandas.plotting import scatter_matrix\n",
    "import seaborn as sns"
   ]
  },
  {
   "cell_type": "code",
   "execution_count": 104,
   "metadata": {},
   "outputs": [],
   "source": [
    "data = pd.read_csv('C:/Users/Pavithra/Documents/DATASETS/heart.csv')"
   ]
  },
  {
   "cell_type": "code",
   "execution_count": 105,
   "metadata": {},
   "outputs": [
    {
     "name": "stdout",
     "output_type": "stream",
     "text": [
      "Shape of DataFrame: (303, 14)\n",
      "age          37.0\n",
      "sex           1.0\n",
      "cp            2.0\n",
      "trestbps    130.0\n",
      "chol        250.0\n",
      "fbs           0.0\n",
      "restecg       1.0\n",
      "thalach     187.0\n",
      "exang         0.0\n",
      "oldpeak       3.5\n",
      "slope         0.0\n",
      "ca            0.0\n",
      "thal          2.0\n",
      "target        1.0\n",
      "Name: 1, dtype: float64\n"
     ]
    }
   ],
   "source": [
    "# print the shape of the DataFrame, so we can see how many examples we have\n",
    "print( 'Shape of DataFrame: {}'.format(data.shape))\n",
    "print (data.loc[1])"
   ]
  },
  {
   "cell_type": "code",
   "execution_count": 106,
   "metadata": {},
   "outputs": [
    {
     "data": {
      "text/html": [
       "<div>\n",
       "<style scoped>\n",
       "    .dataframe tbody tr th:only-of-type {\n",
       "        vertical-align: middle;\n",
       "    }\n",
       "\n",
       "    .dataframe tbody tr th {\n",
       "        vertical-align: top;\n",
       "    }\n",
       "\n",
       "    .dataframe thead th {\n",
       "        text-align: right;\n",
       "    }\n",
       "</style>\n",
       "<table border=\"1\" class=\"dataframe\">\n",
       "  <thead>\n",
       "    <tr style=\"text-align: right;\">\n",
       "      <th></th>\n",
       "      <th>age</th>\n",
       "      <th>sex</th>\n",
       "      <th>cp</th>\n",
       "      <th>trestbps</th>\n",
       "      <th>chol</th>\n",
       "      <th>fbs</th>\n",
       "      <th>restecg</th>\n",
       "      <th>thalach</th>\n",
       "      <th>exang</th>\n",
       "      <th>oldpeak</th>\n",
       "      <th>slope</th>\n",
       "      <th>ca</th>\n",
       "      <th>thal</th>\n",
       "      <th>target</th>\n",
       "    </tr>\n",
       "  </thead>\n",
       "  <tbody>\n",
       "    <tr>\n",
       "      <th>280</th>\n",
       "      <td>42</td>\n",
       "      <td>1</td>\n",
       "      <td>0</td>\n",
       "      <td>136</td>\n",
       "      <td>315</td>\n",
       "      <td>0</td>\n",
       "      <td>1</td>\n",
       "      <td>125</td>\n",
       "      <td>1</td>\n",
       "      <td>1.8</td>\n",
       "      <td>1</td>\n",
       "      <td>0</td>\n",
       "      <td>1</td>\n",
       "      <td>0</td>\n",
       "    </tr>\n",
       "    <tr>\n",
       "      <th>281</th>\n",
       "      <td>52</td>\n",
       "      <td>1</td>\n",
       "      <td>0</td>\n",
       "      <td>128</td>\n",
       "      <td>204</td>\n",
       "      <td>1</td>\n",
       "      <td>1</td>\n",
       "      <td>156</td>\n",
       "      <td>1</td>\n",
       "      <td>1.0</td>\n",
       "      <td>1</td>\n",
       "      <td>0</td>\n",
       "      <td>0</td>\n",
       "      <td>0</td>\n",
       "    </tr>\n",
       "    <tr>\n",
       "      <th>282</th>\n",
       "      <td>59</td>\n",
       "      <td>1</td>\n",
       "      <td>2</td>\n",
       "      <td>126</td>\n",
       "      <td>218</td>\n",
       "      <td>1</td>\n",
       "      <td>1</td>\n",
       "      <td>134</td>\n",
       "      <td>0</td>\n",
       "      <td>2.2</td>\n",
       "      <td>1</td>\n",
       "      <td>1</td>\n",
       "      <td>1</td>\n",
       "      <td>0</td>\n",
       "    </tr>\n",
       "    <tr>\n",
       "      <th>283</th>\n",
       "      <td>40</td>\n",
       "      <td>1</td>\n",
       "      <td>0</td>\n",
       "      <td>152</td>\n",
       "      <td>223</td>\n",
       "      <td>0</td>\n",
       "      <td>1</td>\n",
       "      <td>181</td>\n",
       "      <td>0</td>\n",
       "      <td>0.0</td>\n",
       "      <td>2</td>\n",
       "      <td>0</td>\n",
       "      <td>3</td>\n",
       "      <td>0</td>\n",
       "    </tr>\n",
       "    <tr>\n",
       "      <th>284</th>\n",
       "      <td>61</td>\n",
       "      <td>1</td>\n",
       "      <td>0</td>\n",
       "      <td>140</td>\n",
       "      <td>207</td>\n",
       "      <td>0</td>\n",
       "      <td>0</td>\n",
       "      <td>138</td>\n",
       "      <td>1</td>\n",
       "      <td>1.9</td>\n",
       "      <td>2</td>\n",
       "      <td>1</td>\n",
       "      <td>3</td>\n",
       "      <td>0</td>\n",
       "    </tr>\n",
       "    <tr>\n",
       "      <th>285</th>\n",
       "      <td>46</td>\n",
       "      <td>1</td>\n",
       "      <td>0</td>\n",
       "      <td>140</td>\n",
       "      <td>311</td>\n",
       "      <td>0</td>\n",
       "      <td>1</td>\n",
       "      <td>120</td>\n",
       "      <td>1</td>\n",
       "      <td>1.8</td>\n",
       "      <td>1</td>\n",
       "      <td>2</td>\n",
       "      <td>3</td>\n",
       "      <td>0</td>\n",
       "    </tr>\n",
       "    <tr>\n",
       "      <th>286</th>\n",
       "      <td>59</td>\n",
       "      <td>1</td>\n",
       "      <td>3</td>\n",
       "      <td>134</td>\n",
       "      <td>204</td>\n",
       "      <td>0</td>\n",
       "      <td>1</td>\n",
       "      <td>162</td>\n",
       "      <td>0</td>\n",
       "      <td>0.8</td>\n",
       "      <td>2</td>\n",
       "      <td>2</td>\n",
       "      <td>2</td>\n",
       "      <td>0</td>\n",
       "    </tr>\n",
       "    <tr>\n",
       "      <th>287</th>\n",
       "      <td>57</td>\n",
       "      <td>1</td>\n",
       "      <td>1</td>\n",
       "      <td>154</td>\n",
       "      <td>232</td>\n",
       "      <td>0</td>\n",
       "      <td>0</td>\n",
       "      <td>164</td>\n",
       "      <td>0</td>\n",
       "      <td>0.0</td>\n",
       "      <td>2</td>\n",
       "      <td>1</td>\n",
       "      <td>2</td>\n",
       "      <td>0</td>\n",
       "    </tr>\n",
       "    <tr>\n",
       "      <th>288</th>\n",
       "      <td>57</td>\n",
       "      <td>1</td>\n",
       "      <td>0</td>\n",
       "      <td>110</td>\n",
       "      <td>335</td>\n",
       "      <td>0</td>\n",
       "      <td>1</td>\n",
       "      <td>143</td>\n",
       "      <td>1</td>\n",
       "      <td>3.0</td>\n",
       "      <td>1</td>\n",
       "      <td>1</td>\n",
       "      <td>3</td>\n",
       "      <td>0</td>\n",
       "    </tr>\n",
       "    <tr>\n",
       "      <th>289</th>\n",
       "      <td>55</td>\n",
       "      <td>0</td>\n",
       "      <td>0</td>\n",
       "      <td>128</td>\n",
       "      <td>205</td>\n",
       "      <td>0</td>\n",
       "      <td>2</td>\n",
       "      <td>130</td>\n",
       "      <td>1</td>\n",
       "      <td>2.0</td>\n",
       "      <td>1</td>\n",
       "      <td>1</td>\n",
       "      <td>3</td>\n",
       "      <td>0</td>\n",
       "    </tr>\n",
       "    <tr>\n",
       "      <th>290</th>\n",
       "      <td>61</td>\n",
       "      <td>1</td>\n",
       "      <td>0</td>\n",
       "      <td>148</td>\n",
       "      <td>203</td>\n",
       "      <td>0</td>\n",
       "      <td>1</td>\n",
       "      <td>161</td>\n",
       "      <td>0</td>\n",
       "      <td>0.0</td>\n",
       "      <td>2</td>\n",
       "      <td>1</td>\n",
       "      <td>3</td>\n",
       "      <td>0</td>\n",
       "    </tr>\n",
       "    <tr>\n",
       "      <th>291</th>\n",
       "      <td>58</td>\n",
       "      <td>1</td>\n",
       "      <td>0</td>\n",
       "      <td>114</td>\n",
       "      <td>318</td>\n",
       "      <td>0</td>\n",
       "      <td>2</td>\n",
       "      <td>140</td>\n",
       "      <td>0</td>\n",
       "      <td>4.4</td>\n",
       "      <td>0</td>\n",
       "      <td>3</td>\n",
       "      <td>1</td>\n",
       "      <td>0</td>\n",
       "    </tr>\n",
       "    <tr>\n",
       "      <th>292</th>\n",
       "      <td>58</td>\n",
       "      <td>0</td>\n",
       "      <td>0</td>\n",
       "      <td>170</td>\n",
       "      <td>225</td>\n",
       "      <td>1</td>\n",
       "      <td>0</td>\n",
       "      <td>146</td>\n",
       "      <td>1</td>\n",
       "      <td>2.8</td>\n",
       "      <td>1</td>\n",
       "      <td>2</td>\n",
       "      <td>1</td>\n",
       "      <td>0</td>\n",
       "    </tr>\n",
       "    <tr>\n",
       "      <th>293</th>\n",
       "      <td>67</td>\n",
       "      <td>1</td>\n",
       "      <td>2</td>\n",
       "      <td>152</td>\n",
       "      <td>212</td>\n",
       "      <td>0</td>\n",
       "      <td>0</td>\n",
       "      <td>150</td>\n",
       "      <td>0</td>\n",
       "      <td>0.8</td>\n",
       "      <td>1</td>\n",
       "      <td>0</td>\n",
       "      <td>3</td>\n",
       "      <td>0</td>\n",
       "    </tr>\n",
       "    <tr>\n",
       "      <th>294</th>\n",
       "      <td>44</td>\n",
       "      <td>1</td>\n",
       "      <td>0</td>\n",
       "      <td>120</td>\n",
       "      <td>169</td>\n",
       "      <td>0</td>\n",
       "      <td>1</td>\n",
       "      <td>144</td>\n",
       "      <td>1</td>\n",
       "      <td>2.8</td>\n",
       "      <td>0</td>\n",
       "      <td>0</td>\n",
       "      <td>1</td>\n",
       "      <td>0</td>\n",
       "    </tr>\n",
       "    <tr>\n",
       "      <th>295</th>\n",
       "      <td>63</td>\n",
       "      <td>1</td>\n",
       "      <td>0</td>\n",
       "      <td>140</td>\n",
       "      <td>187</td>\n",
       "      <td>0</td>\n",
       "      <td>0</td>\n",
       "      <td>144</td>\n",
       "      <td>1</td>\n",
       "      <td>4.0</td>\n",
       "      <td>2</td>\n",
       "      <td>2</td>\n",
       "      <td>3</td>\n",
       "      <td>0</td>\n",
       "    </tr>\n",
       "    <tr>\n",
       "      <th>296</th>\n",
       "      <td>63</td>\n",
       "      <td>0</td>\n",
       "      <td>0</td>\n",
       "      <td>124</td>\n",
       "      <td>197</td>\n",
       "      <td>0</td>\n",
       "      <td>1</td>\n",
       "      <td>136</td>\n",
       "      <td>1</td>\n",
       "      <td>0.0</td>\n",
       "      <td>1</td>\n",
       "      <td>0</td>\n",
       "      <td>2</td>\n",
       "      <td>0</td>\n",
       "    </tr>\n",
       "    <tr>\n",
       "      <th>297</th>\n",
       "      <td>59</td>\n",
       "      <td>1</td>\n",
       "      <td>0</td>\n",
       "      <td>164</td>\n",
       "      <td>176</td>\n",
       "      <td>1</td>\n",
       "      <td>0</td>\n",
       "      <td>90</td>\n",
       "      <td>0</td>\n",
       "      <td>1.0</td>\n",
       "      <td>1</td>\n",
       "      <td>2</td>\n",
       "      <td>1</td>\n",
       "      <td>0</td>\n",
       "    </tr>\n",
       "    <tr>\n",
       "      <th>298</th>\n",
       "      <td>57</td>\n",
       "      <td>0</td>\n",
       "      <td>0</td>\n",
       "      <td>140</td>\n",
       "      <td>241</td>\n",
       "      <td>0</td>\n",
       "      <td>1</td>\n",
       "      <td>123</td>\n",
       "      <td>1</td>\n",
       "      <td>0.2</td>\n",
       "      <td>1</td>\n",
       "      <td>0</td>\n",
       "      <td>3</td>\n",
       "      <td>0</td>\n",
       "    </tr>\n",
       "    <tr>\n",
       "      <th>299</th>\n",
       "      <td>45</td>\n",
       "      <td>1</td>\n",
       "      <td>3</td>\n",
       "      <td>110</td>\n",
       "      <td>264</td>\n",
       "      <td>0</td>\n",
       "      <td>1</td>\n",
       "      <td>132</td>\n",
       "      <td>0</td>\n",
       "      <td>1.2</td>\n",
       "      <td>1</td>\n",
       "      <td>0</td>\n",
       "      <td>3</td>\n",
       "      <td>0</td>\n",
       "    </tr>\n",
       "    <tr>\n",
       "      <th>300</th>\n",
       "      <td>68</td>\n",
       "      <td>1</td>\n",
       "      <td>0</td>\n",
       "      <td>144</td>\n",
       "      <td>193</td>\n",
       "      <td>1</td>\n",
       "      <td>1</td>\n",
       "      <td>141</td>\n",
       "      <td>0</td>\n",
       "      <td>3.4</td>\n",
       "      <td>1</td>\n",
       "      <td>2</td>\n",
       "      <td>3</td>\n",
       "      <td>0</td>\n",
       "    </tr>\n",
       "    <tr>\n",
       "      <th>301</th>\n",
       "      <td>57</td>\n",
       "      <td>1</td>\n",
       "      <td>0</td>\n",
       "      <td>130</td>\n",
       "      <td>131</td>\n",
       "      <td>0</td>\n",
       "      <td>1</td>\n",
       "      <td>115</td>\n",
       "      <td>1</td>\n",
       "      <td>1.2</td>\n",
       "      <td>1</td>\n",
       "      <td>1</td>\n",
       "      <td>3</td>\n",
       "      <td>0</td>\n",
       "    </tr>\n",
       "    <tr>\n",
       "      <th>302</th>\n",
       "      <td>57</td>\n",
       "      <td>0</td>\n",
       "      <td>1</td>\n",
       "      <td>130</td>\n",
       "      <td>236</td>\n",
       "      <td>0</td>\n",
       "      <td>0</td>\n",
       "      <td>174</td>\n",
       "      <td>0</td>\n",
       "      <td>0.0</td>\n",
       "      <td>1</td>\n",
       "      <td>1</td>\n",
       "      <td>2</td>\n",
       "      <td>0</td>\n",
       "    </tr>\n",
       "  </tbody>\n",
       "</table>\n",
       "</div>"
      ],
      "text/plain": [
       "     age  sex  cp  trestbps  chol  fbs  restecg  thalach  exang  oldpeak  \\\n",
       "280   42    1   0       136   315    0        1      125      1      1.8   \n",
       "281   52    1   0       128   204    1        1      156      1      1.0   \n",
       "282   59    1   2       126   218    1        1      134      0      2.2   \n",
       "283   40    1   0       152   223    0        1      181      0      0.0   \n",
       "284   61    1   0       140   207    0        0      138      1      1.9   \n",
       "285   46    1   0       140   311    0        1      120      1      1.8   \n",
       "286   59    1   3       134   204    0        1      162      0      0.8   \n",
       "287   57    1   1       154   232    0        0      164      0      0.0   \n",
       "288   57    1   0       110   335    0        1      143      1      3.0   \n",
       "289   55    0   0       128   205    0        2      130      1      2.0   \n",
       "290   61    1   0       148   203    0        1      161      0      0.0   \n",
       "291   58    1   0       114   318    0        2      140      0      4.4   \n",
       "292   58    0   0       170   225    1        0      146      1      2.8   \n",
       "293   67    1   2       152   212    0        0      150      0      0.8   \n",
       "294   44    1   0       120   169    0        1      144      1      2.8   \n",
       "295   63    1   0       140   187    0        0      144      1      4.0   \n",
       "296   63    0   0       124   197    0        1      136      1      0.0   \n",
       "297   59    1   0       164   176    1        0       90      0      1.0   \n",
       "298   57    0   0       140   241    0        1      123      1      0.2   \n",
       "299   45    1   3       110   264    0        1      132      0      1.2   \n",
       "300   68    1   0       144   193    1        1      141      0      3.4   \n",
       "301   57    1   0       130   131    0        1      115      1      1.2   \n",
       "302   57    0   1       130   236    0        0      174      0      0.0   \n",
       "\n",
       "     slope  ca  thal  target  \n",
       "280      1   0     1       0  \n",
       "281      1   0     0       0  \n",
       "282      1   1     1       0  \n",
       "283      2   0     3       0  \n",
       "284      2   1     3       0  \n",
       "285      1   2     3       0  \n",
       "286      2   2     2       0  \n",
       "287      2   1     2       0  \n",
       "288      1   1     3       0  \n",
       "289      1   1     3       0  \n",
       "290      2   1     3       0  \n",
       "291      0   3     1       0  \n",
       "292      1   2     1       0  \n",
       "293      1   0     3       0  \n",
       "294      0   0     1       0  \n",
       "295      2   2     3       0  \n",
       "296      1   0     2       0  \n",
       "297      1   2     1       0  \n",
       "298      1   0     3       0  \n",
       "299      1   0     3       0  \n",
       "300      1   2     3       0  \n",
       "301      1   1     3       0  \n",
       "302      1   1     2       0  "
      ]
     },
     "execution_count": 106,
     "metadata": {},
     "output_type": "execute_result"
    }
   ],
   "source": [
    "# remove missing data (indicated with a \"?\")\n",
    "data = data[~data.isin(['?'])]\n",
    "data.loc[280:]"
   ]
  },
  {
   "cell_type": "code",
   "execution_count": 108,
   "metadata": {},
   "outputs": [
    {
     "name": "stdout",
     "output_type": "stream",
     "text": [
      "(303, 14)\n",
      "age           int64\n",
      "sex           int64\n",
      "cp            int64\n",
      "trestbps      int64\n",
      "chol          int64\n",
      "fbs           int64\n",
      "restecg       int64\n",
      "thalach       int64\n",
      "exang         int64\n",
      "oldpeak     float64\n",
      "slope         int64\n",
      "ca            int64\n",
      "thal          int64\n",
      "target        int64\n",
      "dtype: object\n"
     ]
    }
   ],
   "source": [
    "print(data.shape)\n",
    "print(data.dtypes)"
   ]
  },
  {
   "cell_type": "code",
   "execution_count": 109,
   "metadata": {},
   "outputs": [
    {
     "data": {
      "text/plain": [
       "age           int64\n",
       "sex           int64\n",
       "cp            int64\n",
       "trestbps      int64\n",
       "chol          int64\n",
       "fbs           int64\n",
       "restecg       int64\n",
       "thalach       int64\n",
       "exang         int64\n",
       "oldpeak     float64\n",
       "slope         int64\n",
       "ca            int64\n",
       "thal          int64\n",
       "target        int64\n",
       "dtype: object"
      ]
     },
     "execution_count": 109,
     "metadata": {},
     "output_type": "execute_result"
    }
   ],
   "source": [
    "data = data.apply(pd.to_numeric)\n",
    "data.dtypes"
   ]
  },
  {
   "cell_type": "code",
   "execution_count": 110,
   "metadata": {},
   "outputs": [
    {
     "data": {
      "image/png": "[encoded data removed]",
      "text/plain": [
       "<Figure size 864x864 with 16 Axes>"
      ]
     },
     "metadata": {
      "needs_background": "light"
     },
     "output_type": "display_data"
    }
   ],
   "source": [
    "# plot histograms for each variable\n",
    "data.hist(figsize = (12, 12))\n",
    "plt.show()"
   ]
  },
  {
   "cell_type": "code",
   "execution_count": 111,
   "metadata": {},
   "outputs": [
    {
     "data": {
      "image/png": "[encoded data removed]",
      "text/plain": [
       "<Figure size 1440x432 with 1 Axes>"
      ]
     },
     "metadata": {
      "needs_background": "light"
     },
     "output_type": "display_data"
    }
   ],
   "source": [
    "pd.crosstab(data.age,data.target).plot(kind=\"bar\",figsize=(20,6))\n",
    "plt.title('Heart Disease Frequency for Ages')\n",
    "plt.xlabel('Age')\n",
    "plt.ylabel('Frequency')\n",
    "plt.show()"
   ]
  },
  {
   "cell_type": "code",
   "execution_count": 112,
   "metadata": {},
   "outputs": [
    {
     "data": {
      "image/png": "[encoded data removed]",
      "text/plain": [
       "<Figure size 720x720 with 2 Axes>"
      ]
     },
     "metadata": {
      "needs_background": "light"
     },
     "output_type": "display_data"
    }
   ],
   "source": [
    "plt.figure(figsize=(10,10))\n",
    "sns.heatmap(data.corr(),annot=True,fmt='.1f')\n",
    "plt.show()"
   ]
  },
  {
   "cell_type": "code",
   "execution_count": 113,
   "metadata": {},
   "outputs": [
    {
     "data": {
      "image/png": "[encoded data removed]",
      "text/plain": [
       "<Figure size 720x360 with 1 Axes>"
      ]
     },
     "metadata": {
      "needs_background": "light"
     },
     "output_type": "display_data"
    }
   ],
   "source": [
    "age_unique=sorted(data.age.unique())\n",
    "age_thalach_values=data.groupby('age')['thalach'].count().values\n",
    "mean_thalach=[]\n",
    "for i,age in enumerate(age_unique):\n",
    "    mean_thalach.append(sum(data[data['age']==age].thalach)/age_thalach_values[i])\n",
    "    \n",
    "plt.figure(figsize=(10,5))\n",
    "sns.pointplot(x=age_unique,y=mean_thalach,color='red',alpha=0.8)\n",
    "plt.xlabel('Age',fontsize = 15,color='blue')\n",
    "plt.xticks(rotation=45)\n",
    "plt.ylabel('Thalach',fontsize = 15,color='blue')\n",
    "plt.title('Age vs Thalach',fontsize = 15,color='blue')\n",
    "plt.grid()\n",
    "plt.show()"
   ]
  },
  {
   "cell_type": "code",
   "execution_count": 114,
   "metadata": {},
   "outputs": [],
   "source": [
    "X = np.array(data.drop(['target'], 1))\n",
    "y = np.array(data['target'])"
   ]
  },
  {
   "cell_type": "code",
   "execution_count": 115,
   "metadata": {},
   "outputs": [
    {
     "data": {
      "text/plain": [
       "array([ 63. ,   1. ,   3. , 145. , 233. ,   1. ,   0. , 150. ,   0. ,\n",
       "         2.3,   0. ,   0. ,   1. ])"
      ]
     },
     "execution_count": 115,
     "metadata": {},
     "output_type": "execute_result"
    }
   ],
   "source": [
    "X[0]"
   ]
  },
  {
   "cell_type": "code",
   "execution_count": 116,
   "metadata": {},
   "outputs": [],
   "source": [
    "mean = X.mean(axis=0)\n",
    "X -= mean\n",
    "std = X.std(axis=0)\n",
    "X /= std"
   ]
  },
  {
   "cell_type": "code",
   "execution_count": 156,
   "metadata": {},
   "outputs": [
    {
     "data": {
      "text/plain": [
       "array([ 0.9521966 ,  0.68100522,  1.97312292,  0.76395577, -0.25633371,\n",
       "        2.394438  , -1.00583187,  0.01544279, -0.69663055,  1.08733806,\n",
       "       -2.27457861, -0.71442887, -2.14887271])"
      ]
     },
     "execution_count": 156,
     "metadata": {},
     "output_type": "execute_result"
    }
   ],
   "source": [
    "X[0]"
   ]
  },
  {
   "cell_type": "code",
   "execution_count": 118,
   "metadata": {},
   "outputs": [
    {
     "data": {
      "text/plain": [
       "array([-1.91531289,  0.68100522,  1.00257707, -0.09273778,  0.07219949,\n",
       "       -0.41763453,  0.89896224,  1.63347147, -0.69663055,  2.12257273,\n",
       "       -2.27457861, -0.71442887, -0.51292188])"
      ]
     },
     "execution_count": 118,
     "metadata": {},
     "output_type": "execute_result"
    }
   ],
   "source": [
    "X[1]"
   ]
  },
  {
   "cell_type": "code",
   "execution_count": 119,
   "metadata": {},
   "outputs": [
    {
     "data": {
      "text/plain": [
       "array([ 0.9521966 ,  0.68100522,  1.97312292,  0.76395577, -0.25633371,\n",
       "        2.394438  , -1.00583187,  0.01544279, -0.69663055,  1.08733806,\n",
       "       -2.27457861, -0.71442887, -2.14887271])"
      ]
     },
     "execution_count": 119,
     "metadata": {},
     "output_type": "execute_result"
    }
   ],
   "source": [
    "X[0]"
   ]
  },
  {
   "cell_type": "code",
   "execution_count": 120,
   "metadata": {},
   "outputs": [],
   "source": [
    "from sklearn import model_selection\n",
    "\n",
    "X_train, X_test, y_train, y_test = model_selection.train_test_split(X, y, stratify=y, random_state=42, test_size = 0.2)"
   ]
  },
  {
   "cell_type": "code",
   "execution_count": 121,
   "metadata": {},
   "outputs": [
    {
     "name": "stdout",
     "output_type": "stream",
     "text": [
      "(242, 2)\n",
      "[[0. 1.]\n",
      " [1. 0.]\n",
      " [1. 0.]\n",
      " [1. 0.]\n",
      " [0. 1.]\n",
      " [0. 1.]\n",
      " [0. 1.]\n",
      " [0. 1.]\n",
      " [1. 0.]\n",
      " [0. 1.]]\n"
     ]
    }
   ],
   "source": [
    "from keras.utils.np_utils import to_categorical\n",
    "\n",
    "Y_train = to_categorical(y_train, num_classes=None)\n",
    "Y_test = to_categorical(y_test, num_classes=None)\n",
    "print (Y_train.shape)\n",
    "print (Y_train[:10])"
   ]
  },
  {
   "cell_type": "code",
   "execution_count": 123,
   "metadata": {},
   "outputs": [
    {
     "data": {
      "text/plain": [
       "array([1, 0, 0, 0, 1, 1, 1, 1, 0, 1], dtype=int64)"
      ]
     },
     "execution_count": 123,
     "metadata": {},
     "output_type": "execute_result"
    }
   ],
   "source": [
    "y_train[:10]"
   ]
  },
  {
   "cell_type": "code",
   "execution_count": 124,
   "metadata": {},
   "outputs": [
    {
     "data": {
      "text/plain": [
       "array([[ 1.61392956, -1.46841752,  1.97312292,  0.47839125, -0.14038081,\n",
       "        -0.41763453,  0.89896224,  0.05917329, -0.69663055,  0.65599028,\n",
       "         0.97635214,  1.24459328, -0.51292188],\n",
       "       [ 1.28306308,  0.68100522,  0.03203122,  1.62064933, -0.00510244,\n",
       "        -0.41763453,  0.89896224, -1.29647236,  1.43548113, -0.89686172,\n",
       "        -0.64911323,  2.22410436, -2.14887271],\n",
       "       [ 0.06988599, -1.46841752, -0.93851463, -0.20696359, -0.79744721,\n",
       "        -0.41763453,  2.80375634, -0.85916731,  1.43548113,  0.82852939,\n",
       "        -0.64911323,  0.26508221,  1.12302895],\n",
       "       [ 0.29046364,  0.68100522, -0.93851463, -1.23499586,  1.71486549,\n",
       "        -0.41763453,  0.89896224, -0.29067075,  1.43548113,  1.69122495,\n",
       "        -0.64911323,  0.26508221,  1.12302895],\n",
       "       [ 1.83450721, -1.46841752,  1.00257707, -1.23499586,  0.36208173,\n",
       "         2.394438  , -1.00583187, -0.85916731, -0.69663055, -0.89686172,\n",
       "         0.97635214,  0.26508221, -0.51292188],\n",
       "       [ 1.28306308,  0.68100522, -0.93851463,  1.62064933, -0.35296112,\n",
       "        -0.41763453, -1.00583187, -0.50932327, -0.69663055,  1.08733806,\n",
       "         0.97635214, -0.71442887, -2.14887271],\n",
       "       [-0.37126932,  0.68100522,  1.00257707, -2.14880232, -0.3722866 ,\n",
       "        -0.41763453,  0.89896224,  0.19036481,  1.43548113, -0.89686172,\n",
       "         0.97635214,  0.26508221,  1.12302895],\n",
       "       [-1.47415758, -1.46841752,  0.03203122, -0.09273778, -0.81677269,\n",
       "        -0.41763453, -1.00583187,  0.97751389, -0.69663055,  0.31091206,\n",
       "         0.97635214, -0.71442887, -0.51292188],\n",
       "       [ 0.84190778,  0.68100522, -0.93851463, -0.66386682,  0.40073269,\n",
       "        -0.41763453,  0.89896224, -2.21481297,  1.43548113,  0.65599028,\n",
       "        -0.64911323,  1.24459328,  1.12302895],\n",
       "       [-0.26098049,  0.68100522,  1.00257707,  0.36416545, -0.44958853,\n",
       "        -0.41763453,  0.89896224,  0.84632238, -0.69663055, -0.89686172,\n",
       "         0.97635214,  3.20361543, -0.51292188]])"
      ]
     },
     "execution_count": 124,
     "metadata": {},
     "output_type": "execute_result"
    }
   ],
   "source": [
    "X_train[:10]"
   ]
  },
  {
   "cell_type": "code",
   "execution_count": 125,
   "metadata": {},
   "outputs": [],
   "source": [
    "from keras.models import Sequential\n",
    "from keras.layers import Dense\n",
    "from keras.optimizers import Adam\n",
    "from keras.layers import Dropout\n",
    "from keras import regularizers\n"
   ]
  },
  {
   "cell_type": "code",
   "execution_count": 126,
   "metadata": {},
   "outputs": [
    {
     "name": "stdout",
     "output_type": "stream",
     "text": [
      "Model: \"sequential_15\"\n",
      "_________________________________________________________________\n",
      "Layer (type)                 Output Shape              Param #   \n",
      "=================================================================\n",
      "dense_16 (Dense)             (None, 16)                224       \n",
      "_________________________________________________________________\n",
      "dropout (Dropout)            (None, 16)                0         \n",
      "_________________________________________________________________\n",
      "dense_17 (Dense)             (None, 8)                 136       \n",
      "_________________________________________________________________\n",
      "dropout_1 (Dropout)          (None, 8)                 0         \n",
      "_________________________________________________________________\n",
      "dense_18 (Dense)             (None, 2)                 18        \n",
      "=================================================================\n",
      "Total params: 378\n",
      "Trainable params: 378\n",
      "Non-trainable params: 0\n",
      "_________________________________________________________________\n",
      "None\n"
     ]
    }
   ],
   "source": [
    "def create_model():\n",
    "    # create model\n",
    "    model = Sequential()\n",
    "    model.add(Dense(16, input_dim=13, kernel_initializer='normal', kernel_regularizer=regularizers.l2(0.001), activation='relu'))\n",
    "    model.add(Dropout(0.25))\n",
    "    model.add(Dense(8, kernel_initializer='normal', kernel_regularizer=regularizers.l2(0.001), activation='relu'))\n",
    "    model.add(Dropout(0.25))\n",
    "    model.add(Dense(2, activation='softmax'))\n",
    "    \n",
    "    # compile model\n",
    "    adam = Adam(lr=0.001)\n",
    "    model.compile(loss='categorical_crossentropy', optimizer='rmsprop', metrics=['accuracy'])\n",
    "    return model\n",
    "\n",
    "model = create_model()\n",
    "\n",
    "print(model.summary())"
   ]
  },
  {
   "cell_type": "code",
   "execution_count": 127,
   "metadata": {},
   "outputs": [
    {
     "name": "stdout",
     "output_type": "stream",
     "text": [
      "Epoch 1/50\n",
      "25/25 [==============================] - 2s 15ms/step - loss: 0.6837 - accuracy: 0.6005 - val_loss: 0.6646 - val_accuracy: 0.7869\n",
      "Epoch 2/50\n",
      "25/25 [==============================] - 0s 3ms/step - loss: 0.6538 - accuracy: 0.7649 - val_loss: 0.6295 - val_accuracy: 0.8197\n",
      "Epoch 3/50\n",
      "25/25 [==============================] - 0s 3ms/step - loss: 0.6158 - accuracy: 0.7699 - val_loss: 0.5850 - val_accuracy: 0.8525\n",
      "Epoch 4/50\n",
      "25/25 [==============================] - 0s 3ms/step - loss: 0.5565 - accuracy: 0.8764 - val_loss: 0.5361 - val_accuracy: 0.8525\n",
      "Epoch 5/50\n",
      "25/25 [==============================] - 0s 3ms/step - loss: 0.5198 - accuracy: 0.8260 - val_loss: 0.4954 - val_accuracy: 0.8525\n",
      "Epoch 6/50\n",
      "25/25 [==============================] - 0s 3ms/step - loss: 0.4784 - accuracy: 0.8199 - val_loss: 0.4629 - val_accuracy: 0.8197\n",
      "Epoch 7/50\n",
      "25/25 [==============================] - 0s 3ms/step - loss: 0.4341 - accuracy: 0.8254 - val_loss: 0.4390 - val_accuracy: 0.8197\n",
      "Epoch 8/50\n",
      "25/25 [==============================] - 0s 3ms/step - loss: 0.4111 - accuracy: 0.8319 - val_loss: 0.4263 - val_accuracy: 0.8197\n",
      "Epoch 9/50\n",
      "25/25 [==============================] - 0s 3ms/step - loss: 0.4184 - accuracy: 0.8419 - val_loss: 0.4163 - val_accuracy: 0.8197\n",
      "Epoch 10/50\n",
      "25/25 [==============================] - 0s 3ms/step - loss: 0.3468 - accuracy: 0.8814 - val_loss: 0.4075 - val_accuracy: 0.8033\n",
      "Epoch 11/50\n",
      "25/25 [==============================] - 0s 3ms/step - loss: 0.3601 - accuracy: 0.8490 - val_loss: 0.4041 - val_accuracy: 0.8033\n",
      "Epoch 12/50\n",
      "25/25 [==============================] - ETA: 0s - loss: 0.4037 - accuracy: 0.80 - 0s 3ms/step - loss: 0.4223 - accuracy: 0.8335 - val_loss: 0.4010 - val_accuracy: 0.8033\n",
      "Epoch 13/50\n",
      "25/25 [==============================] - 0s 3ms/step - loss: 0.3616 - accuracy: 0.8719 - val_loss: 0.3975 - val_accuracy: 0.7869\n",
      "Epoch 14/50\n",
      "25/25 [==============================] - 0s 3ms/step - loss: 0.3726 - accuracy: 0.8884 - val_loss: 0.3966 - val_accuracy: 0.8033\n",
      "Epoch 15/50\n",
      "25/25 [==============================] - 0s 3ms/step - loss: 0.3353 - accuracy: 0.8551 - val_loss: 0.3974 - val_accuracy: 0.7869\n",
      "Epoch 16/50\n",
      "25/25 [==============================] - 0s 3ms/step - loss: 0.3404 - accuracy: 0.8625 - val_loss: 0.3983 - val_accuracy: 0.8033\n",
      "Epoch 17/50\n",
      "25/25 [==============================] - 0s 3ms/step - loss: 0.3222 - accuracy: 0.8560 - val_loss: 0.3972 - val_accuracy: 0.8033\n",
      "Epoch 18/50\n",
      "25/25 [==============================] - 0s 3ms/step - loss: 0.3780 - accuracy: 0.8538 - val_loss: 0.3968 - val_accuracy: 0.8033\n",
      "Epoch 19/50\n",
      "25/25 [==============================] - 0s 3ms/step - loss: 0.3437 - accuracy: 0.8611 - val_loss: 0.3942 - val_accuracy: 0.8033\n",
      "Epoch 20/50\n",
      "25/25 [==============================] - 0s 3ms/step - loss: 0.3199 - accuracy: 0.8590 - val_loss: 0.3926 - val_accuracy: 0.8033\n",
      "Epoch 21/50\n",
      "25/25 [==============================] - 0s 3ms/step - loss: 0.3947 - accuracy: 0.8438 - val_loss: 0.3883 - val_accuracy: 0.8033\n",
      "Epoch 22/50\n",
      "25/25 [==============================] - 0s 3ms/step - loss: 0.3560 - accuracy: 0.8256 - val_loss: 0.3879 - val_accuracy: 0.8033\n",
      "Epoch 23/50\n",
      "25/25 [==============================] - 0s 3ms/step - loss: 0.3545 - accuracy: 0.8801 - val_loss: 0.3906 - val_accuracy: 0.8361\n",
      "Epoch 24/50\n",
      "25/25 [==============================] - 0s 3ms/step - loss: 0.2979 - accuracy: 0.8669 - val_loss: 0.3913 - val_accuracy: 0.8197\n",
      "Epoch 25/50\n",
      "25/25 [==============================] - 0s 3ms/step - loss: 0.3638 - accuracy: 0.8530 - val_loss: 0.3981 - val_accuracy: 0.8197\n",
      "Epoch 26/50\n",
      "25/25 [==============================] - 0s 3ms/step - loss: 0.3645 - accuracy: 0.8643 - val_loss: 0.3923 - val_accuracy: 0.8197\n",
      "Epoch 27/50\n",
      "25/25 [==============================] - 0s 3ms/step - loss: 0.2984 - accuracy: 0.8965 - val_loss: 0.3947 - val_accuracy: 0.8197\n",
      "Epoch 28/50\n",
      "25/25 [==============================] - 0s 3ms/step - loss: 0.3179 - accuracy: 0.8755 - val_loss: 0.3983 - val_accuracy: 0.8197\n",
      "Epoch 29/50\n",
      "25/25 [==============================] - 0s 3ms/step - loss: 0.4069 - accuracy: 0.8387 - val_loss: 0.3970 - val_accuracy: 0.8197\n",
      "Epoch 30/50\n",
      "25/25 [==============================] - 0s 3ms/step - loss: 0.3238 - accuracy: 0.8765 - val_loss: 0.3962 - val_accuracy: 0.8033\n",
      "Epoch 31/50\n",
      "25/25 [==============================] - 0s 3ms/step - loss: 0.3386 - accuracy: 0.8966 - val_loss: 0.4007 - val_accuracy: 0.8033\n",
      "Epoch 32/50\n",
      "25/25 [==============================] - 0s 3ms/step - loss: 0.3182 - accuracy: 0.8818 - val_loss: 0.3940 - val_accuracy: 0.8033\n",
      "Epoch 33/50\n",
      "25/25 [==============================] - 0s 3ms/step - loss: 0.3547 - accuracy: 0.8595 - val_loss: 0.3987 - val_accuracy: 0.8033\n",
      "Epoch 34/50\n",
      "25/25 [==============================] - 0s 3ms/step - loss: 0.2903 - accuracy: 0.8988 - val_loss: 0.4004 - val_accuracy: 0.8033\n",
      "Epoch 35/50\n",
      "25/25 [==============================] - 0s 3ms/step - loss: 0.2806 - accuracy: 0.9154 - val_loss: 0.4014 - val_accuracy: 0.8033\n",
      "Epoch 36/50\n",
      "25/25 [==============================] - 0s 3ms/step - loss: 0.3441 - accuracy: 0.8450 - val_loss: 0.3997 - val_accuracy: 0.8033\n",
      "Epoch 37/50\n",
      "25/25 [==============================] - 0s 3ms/step - loss: 0.3197 - accuracy: 0.8793 - val_loss: 0.4035 - val_accuracy: 0.8197\n",
      "Epoch 38/50\n",
      "25/25 [==============================] - 0s 3ms/step - loss: 0.3144 - accuracy: 0.9083 - val_loss: 0.4089 - val_accuracy: 0.8197\n",
      "Epoch 39/50\n",
      "25/25 [==============================] - 0s 3ms/step - loss: 0.3521 - accuracy: 0.8408 - val_loss: 0.4088 - val_accuracy: 0.8197\n",
      "Epoch 40/50\n",
      "25/25 [==============================] - 0s 3ms/step - loss: 0.3526 - accuracy: 0.8636 - val_loss: 0.4086 - val_accuracy: 0.8197\n",
      "Epoch 41/50\n",
      "25/25 [==============================] - 0s 3ms/step - loss: 0.2974 - accuracy: 0.8805 - val_loss: 0.4099 - val_accuracy: 0.8197\n",
      "Epoch 42/50\n",
      "25/25 [==============================] - 0s 3ms/step - loss: 0.3117 - accuracy: 0.8677 - val_loss: 0.4137 - val_accuracy: 0.8197\n",
      "Epoch 43/50\n",
      "25/25 [==============================] - 0s 3ms/step - loss: 0.3471 - accuracy: 0.8743 - val_loss: 0.4102 - val_accuracy: 0.8033\n",
      "Epoch 44/50\n",
      "25/25 [==============================] - 0s 3ms/step - loss: 0.2563 - accuracy: 0.9112 - val_loss: 0.4104 - val_accuracy: 0.8033\n",
      "Epoch 45/50\n",
      "25/25 [==============================] - 0s 3ms/step - loss: 0.2955 - accuracy: 0.8956 - val_loss: 0.4174 - val_accuracy: 0.8033\n",
      "Epoch 46/50\n",
      "25/25 [==============================] - 0s 3ms/step - loss: 0.2678 - accuracy: 0.8875 - val_loss: 0.4192 - val_accuracy: 0.8033\n",
      "Epoch 47/50\n",
      "25/25 [==============================] - 0s 3ms/step - loss: 0.4219 - accuracy: 0.8390 - val_loss: 0.4232 - val_accuracy: 0.8197\n",
      "Epoch 48/50\n",
      "25/25 [==============================] - 0s 3ms/step - loss: 0.3245 - accuracy: 0.8564 - val_loss: 0.4212 - val_accuracy: 0.8197\n",
      "Epoch 49/50\n",
      "25/25 [==============================] - 0s 3ms/step - loss: 0.2879 - accuracy: 0.8897 - val_loss: 0.4210 - val_accuracy: 0.8197\n",
      "Epoch 50/50\n",
      "25/25 [==============================] - 0s 3ms/step - loss: 0.2990 - accuracy: 0.9002 - val_loss: 0.4247 - val_accuracy: 0.8197\n"
     ]
    }
   ],
   "source": [
    "# fit the model to the training data\n",
    "history=model.fit(X_train, Y_train, validation_data=(X_test, Y_test),epochs=50, batch_size=10)"
   ]
  },
  {
   "cell_type": "code",
   "execution_count": 128,
   "metadata": {},
   "outputs": [
    {
     "name": "stdout",
     "output_type": "stream",
     "text": [
      "[1 0 0 0 1 1 1 1 0 1 0 1 0 0 0 1 0 0 1 1]\n"
     ]
    }
   ],
   "source": [
    "# convert into binary classification problem - heart disease or no heart disease\n",
    "Y_train_binary = y_train.copy()\n",
    "Y_test_binary = y_test.copy()\n",
    "\n",
    "Y_train_binary[Y_train_binary > 0] = 1\n",
    "Y_test_binary[Y_test_binary > 0] = 1\n",
    "\n",
    "print(Y_train_binary[:20])"
   ]
  },
  {
   "cell_type": "code",
   "execution_count": 209,
   "metadata": {},
   "outputs": [
    {
     "name": "stdout",
     "output_type": "stream",
     "text": [
      "Model: \"sequential_17\"\n",
      "_________________________________________________________________\n",
      "Layer (type)                 Output Shape              Param #   \n",
      "=================================================================\n",
      "dense_22 (Dense)             (None, 16)                224       \n",
      "_________________________________________________________________\n",
      "dropout_4 (Dropout)          (None, 16)                0         \n",
      "_________________________________________________________________\n",
      "dense_23 (Dense)             (None, 8)                 136       \n",
      "_________________________________________________________________\n",
      "dropout_5 (Dropout)          (None, 8)                 0         \n",
      "_________________________________________________________________\n",
      "dense_24 (Dense)             (None, 1)                 9         \n",
      "=================================================================\n",
      "Total params: 369\n",
      "Trainable params: 369\n",
      "Non-trainable params: 0\n",
      "_________________________________________________________________\n",
      "None\n"
     ]
    }
   ],
   "source": [
    "def create_binary_model():\n",
    "    # create model\n",
    "    model = Sequential()\n",
    "    model.add(Dense(16, input_dim=13, kernel_initializer='normal',  kernel_regularizer=regularizers.l2(0.001),activation='relu'))\n",
    "    model.add(Dropout(0.25))\n",
    "    model.add(Dense(8, kernel_initializer='normal',  kernel_regularizer=regularizers.l2(0.001),activation='relu'))\n",
    "    model.add(Dropout(0.25))\n",
    "    model.add(Dense(1, activation='sigmoid'))\n",
    "    \n",
    "    # Compile model\n",
    "    adam = Adam(lr=0.001)\n",
    "    model.compile(loss='binary_crossentropy', optimizer='rmsprop', metrics=['accuracy'])\n",
    "    return model\n",
    "\n",
    "binary_model = create_binary_model()\n",
    "\n",
    "print(binary_model.summary())"
   ]
  },
  {
   "cell_type": "code",
   "execution_count": 210,
   "metadata": {},
   "outputs": [
    {
     "name": "stdout",
     "output_type": "stream",
     "text": [
      "Epoch 1/50\n",
      "25/25 [==============================] - 2s 22ms/step - loss: 0.6927 - accuracy: 0.4800 - val_loss: 0.6818 - val_accuracy: 0.8033\n",
      "Epoch 2/50\n",
      "25/25 [==============================] - 0s 6ms/step - loss: 0.6790 - accuracy: 0.7470 - val_loss: 0.6626 - val_accuracy: 0.8197\n",
      "Epoch 3/50\n",
      "25/25 [==============================] - 0s 6ms/step - loss: 0.6464 - accuracy: 0.7990 - val_loss: 0.6318 - val_accuracy: 0.7705\n",
      "Epoch 4/50\n",
      "25/25 [==============================] - 0s 6ms/step - loss: 0.6050 - accuracy: 0.8788 - val_loss: 0.5975 - val_accuracy: 0.7869\n",
      "Epoch 5/50\n",
      "25/25 [==============================] - 0s 6ms/step - loss: 0.5652 - accuracy: 0.8671 - val_loss: 0.5637 - val_accuracy: 0.7869\n",
      "Epoch 6/50\n",
      "25/25 [==============================] - 0s 6ms/step - loss: 0.5382 - accuracy: 0.8125 - val_loss: 0.5281 - val_accuracy: 0.7869\n",
      "Epoch 7/50\n",
      "25/25 [==============================] - 0s 7ms/step - loss: 0.4889 - accuracy: 0.8598 - val_loss: 0.5010 - val_accuracy: 0.7541\n",
      "Epoch 8/50\n",
      "25/25 [==============================] - 0s 7ms/step - loss: 0.4615 - accuracy: 0.8681 - val_loss: 0.4797 - val_accuracy: 0.7541\n",
      "Epoch 9/50\n",
      "25/25 [==============================] - 0s 9ms/step - loss: 0.4435 - accuracy: 0.8729 - val_loss: 0.4602 - val_accuracy: 0.7869\n",
      "Epoch 10/50\n",
      "25/25 [==============================] - 0s 6ms/step - loss: 0.4405 - accuracy: 0.8642 - val_loss: 0.4490 - val_accuracy: 0.7705\n",
      "Epoch 11/50\n",
      "25/25 [==============================] - 0s 8ms/step - loss: 0.4459 - accuracy: 0.8203 - val_loss: 0.4383 - val_accuracy: 0.7705\n",
      "Epoch 12/50\n",
      "25/25 [==============================] - 0s 9ms/step - loss: 0.4131 - accuracy: 0.8484 - val_loss: 0.4286 - val_accuracy: 0.8033\n",
      "Epoch 13/50\n",
      "25/25 [==============================] - 0s 6ms/step - loss: 0.3842 - accuracy: 0.8448 - val_loss: 0.4216 - val_accuracy: 0.7869\n",
      "Epoch 14/50\n",
      "25/25 [==============================] - 0s 8ms/step - loss: 0.3403 - accuracy: 0.8963 - val_loss: 0.4134 - val_accuracy: 0.8033\n",
      "Epoch 15/50\n",
      "25/25 [==============================] - 0s 9ms/step - loss: 0.3768 - accuracy: 0.8505 - val_loss: 0.4079 - val_accuracy: 0.8033\n",
      "Epoch 16/50\n",
      "25/25 [==============================] - 0s 7ms/step - loss: 0.3596 - accuracy: 0.8659 - val_loss: 0.4065 - val_accuracy: 0.7869\n",
      "Epoch 17/50\n",
      "25/25 [==============================] - 0s 7ms/step - loss: 0.3773 - accuracy: 0.8464 - val_loss: 0.4045 - val_accuracy: 0.7869\n",
      "Epoch 18/50\n",
      "25/25 [==============================] - 0s 6ms/step - loss: 0.3635 - accuracy: 0.8766 - val_loss: 0.4034 - val_accuracy: 0.7869\n",
      "Epoch 19/50\n",
      "25/25 [==============================] - 0s 7ms/step - loss: 0.3577 - accuracy: 0.8606 - val_loss: 0.4007 - val_accuracy: 0.8033\n",
      "Epoch 20/50\n",
      "25/25 [==============================] - 0s 9ms/step - loss: 0.4160 - accuracy: 0.8550 - val_loss: 0.4016 - val_accuracy: 0.7869\n",
      "Epoch 21/50\n",
      "25/25 [==============================] - 0s 8ms/step - loss: 0.2956 - accuracy: 0.9066 - val_loss: 0.3985 - val_accuracy: 0.8033\n",
      "Epoch 22/50\n",
      "25/25 [==============================] - 0s 6ms/step - loss: 0.3838 - accuracy: 0.8392 - val_loss: 0.4014 - val_accuracy: 0.8033\n",
      "Epoch 23/50\n",
      "25/25 [==============================] - 0s 7ms/step - loss: 0.3504 - accuracy: 0.8672 - val_loss: 0.4026 - val_accuracy: 0.8033\n",
      "Epoch 24/50\n",
      "25/25 [==============================] - 0s 6ms/step - loss: 0.3904 - accuracy: 0.8823 - val_loss: 0.4047 - val_accuracy: 0.8033\n",
      "Epoch 25/50\n",
      "25/25 [==============================] - 0s 6ms/step - loss: 0.3053 - accuracy: 0.9075 - val_loss: 0.4025 - val_accuracy: 0.8033\n",
      "Epoch 26/50\n",
      "25/25 [==============================] - 0s 6ms/step - loss: 0.3849 - accuracy: 0.8583 - val_loss: 0.4059 - val_accuracy: 0.8033\n",
      "Epoch 27/50\n",
      "25/25 [==============================] - 0s 7ms/step - loss: 0.4119 - accuracy: 0.8446 - val_loss: 0.4058 - val_accuracy: 0.8033\n",
      "Epoch 28/50\n",
      "25/25 [==============================] - 0s 8ms/step - loss: 0.3943 - accuracy: 0.8556 - val_loss: 0.4038 - val_accuracy: 0.8033\n",
      "Epoch 29/50\n",
      "25/25 [==============================] - 0s 6ms/step - loss: 0.3435 - accuracy: 0.8447 - val_loss: 0.4041 - val_accuracy: 0.8033\n",
      "Epoch 30/50\n",
      "25/25 [==============================] - 0s 7ms/step - loss: 0.3522 - accuracy: 0.8538 - val_loss: 0.4042 - val_accuracy: 0.8033\n",
      "Epoch 31/50\n",
      "25/25 [==============================] - 0s 6ms/step - loss: 0.3348 - accuracy: 0.8410 - val_loss: 0.4034 - val_accuracy: 0.8033\n",
      "Epoch 32/50\n",
      "25/25 [==============================] - 0s 5ms/step - loss: 0.3206 - accuracy: 0.8699 - val_loss: 0.4081 - val_accuracy: 0.8197\n",
      "Epoch 33/50\n",
      "25/25 [==============================] - 0s 6ms/step - loss: 0.3736 - accuracy: 0.8718 - val_loss: 0.4090 - val_accuracy: 0.8197\n",
      "Epoch 34/50\n",
      "25/25 [==============================] - 0s 7ms/step - loss: 0.3506 - accuracy: 0.8570 - val_loss: 0.4079 - val_accuracy: 0.8197\n",
      "Epoch 35/50\n",
      "25/25 [==============================] - 0s 6ms/step - loss: 0.3870 - accuracy: 0.8478 - val_loss: 0.4072 - val_accuracy: 0.8197\n",
      "Epoch 36/50\n",
      "25/25 [==============================] - 0s 6ms/step - loss: 0.3458 - accuracy: 0.8468 - val_loss: 0.4109 - val_accuracy: 0.8197\n",
      "Epoch 37/50\n",
      "25/25 [==============================] - 0s 7ms/step - loss: 0.3299 - accuracy: 0.8806 - val_loss: 0.4101 - val_accuracy: 0.8197\n",
      "Epoch 38/50\n",
      "25/25 [==============================] - 0s 5ms/step - loss: 0.4093 - accuracy: 0.8388 - val_loss: 0.4114 - val_accuracy: 0.8197\n",
      "Epoch 39/50\n",
      "25/25 [==============================] - 0s 6ms/step - loss: 0.2962 - accuracy: 0.8948 - val_loss: 0.4074 - val_accuracy: 0.8197\n",
      "Epoch 40/50\n",
      "25/25 [==============================] - 0s 5ms/step - loss: 0.3210 - accuracy: 0.8627 - val_loss: 0.4081 - val_accuracy: 0.8197\n",
      "Epoch 41/50\n",
      "25/25 [==============================] - 0s 6ms/step - loss: 0.3392 - accuracy: 0.8294 - val_loss: 0.4069 - val_accuracy: 0.8197\n",
      "Epoch 42/50\n",
      "25/25 [==============================] - 0s 6ms/step - loss: 0.3534 - accuracy: 0.8689 - val_loss: 0.4088 - val_accuracy: 0.8197\n",
      "Epoch 43/50\n",
      "25/25 [==============================] - 0s 7ms/step - loss: 0.3033 - accuracy: 0.8923 - val_loss: 0.4083 - val_accuracy: 0.8197\n",
      "Epoch 44/50\n",
      "25/25 [==============================] - 0s 6ms/step - loss: 0.3128 - accuracy: 0.8763 - val_loss: 0.4024 - val_accuracy: 0.8197\n",
      "Epoch 45/50\n",
      "25/25 [==============================] - 0s 6ms/step - loss: 0.3263 - accuracy: 0.8536 - val_loss: 0.4056 - val_accuracy: 0.8197\n",
      "Epoch 46/50\n",
      "25/25 [==============================] - 0s 6ms/step - loss: 0.3248 - accuracy: 0.8903 - val_loss: 0.4069 - val_accuracy: 0.8197\n",
      "Epoch 47/50\n",
      "25/25 [==============================] - 0s 6ms/step - loss: 0.3267 - accuracy: 0.8747 - val_loss: 0.4055 - val_accuracy: 0.8197\n",
      "Epoch 48/50\n",
      "25/25 [==============================] - 0s 7ms/step - loss: 0.3283 - accuracy: 0.8680 - val_loss: 0.4025 - val_accuracy: 0.8197\n",
      "Epoch 49/50\n",
      "25/25 [==============================] - 0s 6ms/step - loss: 0.3203 - accuracy: 0.8987 - val_loss: 0.4027 - val_accuracy: 0.8197\n",
      "Epoch 50/50\n",
      "25/25 [==============================] - 0s 6ms/step - loss: 0.2540 - accuracy: 0.9108 - val_loss: 0.4039 - val_accuracy: 0.8197\n"
     ]
    }
   ],
   "source": [
    "# fit the binary model on the training data\n",
    "history=binary_model.fit(X_train, y_train, validation_data=(X_test, Y_test_binary), epochs=50, batch_size=10)"
   ]
  },
  {
   "cell_type": "code",
   "execution_count": 236,
   "metadata": {},
   "outputs": [],
   "source": [
    "arr = np.array([  [ 0.84190778,  0.68100522, -0.93851463, -0.66386682,  0.40073269,\n",
    "        -0.41763453,  0.89896224, -2.21481297,  1.43548113,  0.65599028,\n",
    "        -0.64911323,  1.24459328,  2.12302895]])\n",
    "categorical_pred = binary_model.predict(arr)"
   ]
  },
  {
   "cell_type": "code",
   "execution_count": 237,
   "metadata": {},
   "outputs": [
    {
     "data": {
      "text/plain": [
       "array([[0.00619048]], dtype=float32)"
      ]
     },
     "execution_count": 237,
     "metadata": {},
     "output_type": "execute_result"
    }
   ],
   "source": [
    "categorical_pred"
   ]
  },
  {
   "cell_type": "code",
   "execution_count": 238,
   "metadata": {},
   "outputs": [
    {
     "name": "stdout",
     "output_type": "stream",
     "text": [
      "INFO:tensorflow:Assets written to: C:\\Users\\Pavithra\\AppData\\Local\\Temp\\tmpehcqhbrg\\assets\n"
     ]
    },
    {
     "data": {
      "text/plain": [
       "3304"
      ]
     },
     "execution_count": 238,
     "metadata": {},
     "output_type": "execute_result"
    }
   ],
   "source": [
    "converter = lite.TFLiteConverter.from_keras_model(binary_model)\n",
    "\n",
    "tfmodel = converter.convert()\n",
    "\n",
    "open('newheart_dispred.tflite', 'wb').write(tfmodel)\n"
   ]
  },
  {
   "cell_type": "code",
   "execution_count": null,
   "metadata": {},
   "outputs": [],
   "source": []
  },
  {
   "cell_type": "code",
   "execution_count": null,
   "metadata": {},
   "outputs": [],
   "source": []
  },
  {
   "cell_type": "code",
   "execution_count": null,
   "metadata": {},
   "outputs": [],
   "source": []
  },
  {
   "cell_type": "code",
   "execution_count": null,
   "metadata": {},
   "outputs": [],
   "source": []
  },
  {
   "cell_type": "code",
   "execution_count": null,
   "metadata": {},
   "outputs": [],
   "source": []
  }
 ],
 "metadata": {
  "kernelspec": {
   "display_name": "Python 3",
   "language": "python",
   "name": "python3"
  },
  "language_info": {
   "codemirror_mode": {
    "name": "ipython",
    "version": 3
   },
   "file_extension": ".py",
   "mimetype": "text/x-python",
   "name": "python",
   "nbconvert_exporter": "python",
   "pygments_lexer": "ipython3",
   "version": "3.8.5"
  }
 },
 "nbformat": 4,
 "nbformat_minor": 4
}
